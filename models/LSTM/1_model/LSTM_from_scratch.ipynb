{
 "cells": [
  {
   "cell_type": "markdown",
   "metadata": {
    "colab_type": "text",
    "id": "y-CptVs7iACc"
   },
   "source": [
    "# How to build RNNs and LSTMs from scratch\n",
    "# (Note: Template updated. This file implements LSTMs ONLY)\n",
    "\n",
    "Originally developed by me (Nicklas Hansen), Peter Christensen and Alexander Johansen as educational material for the graduate deep learning course at the Technical University of Denmark (DTU). You can access the full course material [here](https://github.com/DeepLearningDTU/02456-deep-learning-with-PyTorch).\n",
    "____\n",
    "\n",
    "In this lab we will introduce different ways of learning from sequential data.\n",
    "As an example, we will train a neural network to do language modelling, i.e. predict the next token in a sentence. In the context of natural language processing a token could be a character or a word, but mind you that the concepts introduced here apply to all kinds of sequential data, such as e.g. protein sequences, weather measurements, audio signals or monetary transaction history, just to name a few.\n",
    "\n",
    "To really get a grasp of what is going on inside the recurrent neural networks that we are about to teach you, we will carry out a substantial part of this exercise in numpy rather than PyTorch. Once you get a hold of it, we will proceed to the PyTorch implementation.\n",
    "\n",
    "In this notebook we will show you:\n",
    "* How to represent categorical variables in networks\n",
    "* How to build a recurrent neural network (RNN) from scratch\n",
    "* How to build a LSTM network from scratch\n",
    "* How to build a LSTM network in PyTorch"
   ]
  },
  {
   "cell_type": "markdown",
   "metadata": {
    "colab_type": "text",
    "id": "XapO8SLwiACd"
   },
   "source": [
    "## Representing tokens or text\n",
    "\n",
    "In previous labs we mainly considered data $x \\in \\mathrm{R}^d$, where $d$ is the feature space dimension.\n",
    "With time sequences our data can be represented as $x \\in \\mathrm{R}^{t \\, \\times \\, d}$, where $t$ is the sequence length. \n",
    "This emphasises sequence dependence and that the samples along the sequence are not independent and identically distributed (i.i.d.).\n",
    "We will model functions as $\\mathrm{R}^{t \\, \\times \\, d} \\rightarrow \\mathrm{R}^c$, where $c$ is the amount of classes in the output.\n",
    "\n",
    "There are several ways to represent sequences. With text, the challenge is how to represent a word as a feature vector in $d$ dimensions, as we are required to represent text with decimal numbers in order to apply neural networks to it.\n",
    "\n",
    "In this exercise we will use a simple one-hot encoding but for categorical variables that can take on many values (e.g. words in the English language) this may be infeasible. For such scenarios, you can project the encodings into a smaller space by use of embeddings. If you want to learn more about tokens, encodings and embeddings than what is covered in this exercise, we highly recommend [this lecture](https://www.youtube.com/watch?v=kEMJRjEdNzM&list=PLoROMvodv4rOhcuXMZkNm7j3fVwBBY42z)."
   ]
  },
  {
   "cell_type": "markdown",
   "metadata": {
    "colab_type": "text",
    "id": "bdA4LPsFiACe"
   },
   "source": [
    "### One-hot encoding over vocabulary\n",
    "\n",
    "One way to represent a fixed amount of words is by making a one-hot encoded vector, which consists of 0s in all cells with the exception of a single 1 in a cell used uniquely to identify each word.\n",
    "\n",
    "| vocabulary    | one-hot encoded vector   |\n",
    "| ------------- |--------------------------|\n",
    "| Paris         | $= [1, 0, 0, \\ldots, 0]$ |\n",
    "| Rome          | $= [0, 1, 0, \\ldots, 0]$ |\n",
    "| Copenhagen    | $= [0, 0, 1, \\ldots, 0]$ |\n",
    "\n",
    "Representing a large vocabulary with one-hot encodings often becomes inefficient because of the size of each sparse vector.\n",
    "To overcome this challenge it is common practice to truncate the vocabulary to contain the $k$ most used words and represent the rest with a special symbol, $\\mathtt{UNK}$, to define unknown/unimportant words.\n",
    "This often causes entities such as names to be represented with $\\mathtt{UNK}$ because they are rare.\n",
    "\n",
    "Consider the following text\n",
    "> I love the corny jokes in Spielberg's new movie.\n",
    "\n",
    "where an example result would be similar to\n",
    "> I love the corny jokes in $\\mathtt{UNK}$'s new movie."
   ]
  },
  {
   "cell_type": "markdown",
   "metadata": {},
   "source": [
    "## Generating a dataset"
   ]
  },
  {
   "cell_type": "markdown",
   "metadata": {},
   "source": [
    "For this exercise we will create a simple dataset that we can learn from. We generate sequences of the form:\n",
    "\n",
    "`a a a a b b b b EOS`, `a a b b EOS`, `a a a a a b b b b b EOS`\n",
    "\n",
    "where `EOS` is a special character denoting the end of a sequence. The task is to predict the next token $t_n$, i.e. `a`, `b`, `EOS` or the unknown token `UNK` given the sequence of tokens $\\{ t_{1}, t_{2}, \\dots , t_{n-1}\\}$ and we are to process sequences in a sequential manner. As such, the network will need to learn that e.g. 5 `b`s and an `EOS` token will occur following 5 `a`s."
   ]
  },
  {
   "cell_type": "code",
   "execution_count": 15,
   "metadata": {},
   "outputs": [],
   "source": [
    "# import numpy as np\n",
    "\n",
    "# # Set seed such that we always get the same dataset\n",
    "# np.random.seed(42)\n",
    "\n",
    "# def generate_dataset(num_sequences=100):\n",
    "#     \"\"\"\n",
    "#     Generates a number of sequences as our dataset.\n",
    "    \n",
    "#     Args:\n",
    "#      `num_sequences`: the number of sequences to be generated.\n",
    "     \n",
    "#     Returns a list of sequences.\n",
    "#     \"\"\"\n",
    "#     samples = []\n",
    "    \n",
    "#     for _ in range(num_sequences): \n",
    "#         num_tokens = np.random.randint(1, 10)\n",
    "#         sample = ['a'] * num_tokens + ['b'] * num_tokens + ['EOS']\n",
    "#         samples.append(sample)\n",
    "        \n",
    "#     return samples\n",
    "\n",
    "\n",
    "# sequences = generate_dataset()\n",
    "\n",
    "# print('A single sample from the generated dataset:')\n",
    "# print(sequences[0])"
   ]
  },
  {
   "cell_type": "markdown",
   "metadata": {},
   "source": [
    "## Representing tokens as indices"
   ]
  },
  {
   "cell_type": "markdown",
   "metadata": {},
   "source": [
    "To build a one-hot encoding, we need to assign each possible word in our vocabulary an index. We do that by creating two dictionaries: one that allows us to go from a given word to its corresponding index in our vocabulary, and one for the reverse direction. Let's call them `word_to_idx` and `idx_to_word`. The keyword `num_words` specifies the maximum size of our vocabulary. If we try to access a word that does not exist in our vocabulary, it is automatically replaced by the `UNK` token or its corresponding index."
   ]
  },
  {
   "cell_type": "code",
   "execution_count": 16,
   "metadata": {},
   "outputs": [],
   "source": [
    "# from collections import defaultdict\n",
    "\n",
    "# def sequences_to_dicts(sequences):\n",
    "#     \"\"\"\n",
    "#     Creates word_to_idx and idx_to_word dictionaries for a list of sequences.\n",
    "#     \"\"\"\n",
    "#     # A bit of Python-magic to flatten a nested list\n",
    "#     flatten = lambda l: [item for sublist in l for item in sublist]\n",
    "    \n",
    "#     # Flatten the dataset\n",
    "#     all_words = flatten(sequences)\n",
    "    \n",
    "#     # Count number of word occurences\n",
    "#     word_count = defaultdict(int)\n",
    "#     for word in flatten(sequences):\n",
    "#         word_count[word] += 1\n",
    "\n",
    "#     # Sort by frequency\n",
    "#     word_count = sorted(list(word_count.items()), key=lambda l: -l[1])\n",
    "\n",
    "#     # Create a list of all unique words\n",
    "#     unique_words = [item[0] for item in word_count]\n",
    "    \n",
    "#     # Add UNK token to list of words\n",
    "#     unique_words.append('UNK')\n",
    "\n",
    "#     # Count number of sequences and number of unique words\n",
    "#     num_sentences, vocab_size = len(sequences), len(unique_words)\n",
    "\n",
    "#     # Create dictionaries so that we can go from word to index and back\n",
    "#     # If a word is not in our vocabulary, we assign it to token 'UNK'\n",
    "#     word_to_idx = defaultdict(lambda: num_words)\n",
    "#     idx_to_word = defaultdict(lambda: 'UNK')\n",
    "\n",
    "#     # Fill dictionaries\n",
    "#     for idx, word in enumerate(unique_words):\n",
    "#         # YOUR CODE HERE!\n",
    "#         word_to_idx[word] = idx\n",
    "#         idx_to_word[idx] = word\n",
    "\n",
    "#     return word_to_idx, idx_to_word, num_sentences, vocab_size\n",
    "\n",
    "\n",
    "# word_to_idx, idx_to_word, num_sequences, vocab_size = sequences_to_dicts(sequences)\n",
    "\n",
    "# print(f'We have {num_sequences} sentences and {len(word_to_idx)} unique tokens in our dataset (including UNK).\\n')\n",
    "# print('The index of \\'b\\' is', word_to_idx['b'])\n",
    "# print(f'The word corresponding to index 1 is \\'{idx_to_word[1]}\\'')"
   ]
  },
  {
   "cell_type": "markdown",
   "metadata": {},
   "source": [
    "## Exercise:"
   ]
  },
  {
   "cell_type": "markdown",
   "metadata": {},
   "source": [
    "Complete the `sequences_to_dicts` function above. You will need to fill the `word_to_idx` and `idx_to_word` dictionaries so that we can go back and forth between the two representations."
   ]
  },
  {
   "cell_type": "markdown",
   "metadata": {},
   "source": [
    "## Partitioning the dataset"
   ]
  },
  {
   "cell_type": "markdown",
   "metadata": {},
   "source": [
    "To build our dataset, we need to create inputs and targets for each sequences and partition sentences it into training, validation and test sets. 80%, 10% and 10% is a common distribution, but mind you that this largely depends on the size of the dataset. Since we are doing next-word predictions, our target sequence is simply the input sequence shifted by one word.\n",
    "\n",
    "We can use PyTorch's `Dataset` class to build a simple dataset where we can easily retrieve (inputs, targets) pairs for each of our sequences."
   ]
  },
  {
   "cell_type": "code",
   "execution_count": 17,
   "metadata": {},
   "outputs": [],
   "source": [
    "# from torch.utils import data\n",
    "\n",
    "# class Dataset(data.Dataset):\n",
    "#     def __init__(self, inputs, targets):\n",
    "#         self.inputs = inputs\n",
    "#         self.targets = targets\n",
    "\n",
    "#     def __len__(self):\n",
    "#         # Return the size of the dataset\n",
    "#         return len(self.targets)\n",
    "\n",
    "#     def __getitem__(self, index):\n",
    "#         # Retrieve inputs and targets at the given index\n",
    "#         X = self.inputs[index]\n",
    "#         y = self.targets[index]\n",
    "\n",
    "#         return X, y\n",
    "\n",
    "    \n",
    "# def create_datasets(sequences, dataset_class, p_train=0.8, p_val=0.1, p_test=0.1):\n",
    "#     # Define partition sizes\n",
    "#     num_train = int(len(sequences)*p_train)\n",
    "#     num_val = int(len(sequences)*p_val)\n",
    "#     num_test = int(len(sequences)*p_test)\n",
    "\n",
    "#     # Split sequences into partitions\n",
    "#     sequences_train = sequences[:num_train]\n",
    "#     sequences_val = sequences[num_train:num_train+num_val]\n",
    "#     sequences_test = sequences[-num_test:]\n",
    "\n",
    "#     def get_inputs_targets_from_sequences(sequences):\n",
    "#         # Define empty lists\n",
    "#         inputs, targets = [], []\n",
    "        \n",
    "#         # Append inputs and targets s.t. both lists contain L-1 words of a sentence of length L\n",
    "#         # but targets are shifted right by one so that we can predict the next word\n",
    "#         for sequence in sequences:\n",
    "#             inputs.append(sequence[:-1])\n",
    "#             targets.append(sequence[1:])\n",
    "            \n",
    "#         return inputs, targets\n",
    "\n",
    "#     # Get inputs and targets for each partition\n",
    "#     inputs_train, targets_train = get_inputs_targets_from_sequences(sequences_train)\n",
    "#     inputs_val, targets_val = get_inputs_targets_from_sequences(sequences_val)\n",
    "#     inputs_test, targets_test = get_inputs_targets_from_sequences(sequences_test)\n",
    "\n",
    "#     # Create datasets\n",
    "#     training_set = dataset_class(inputs_train, targets_train)\n",
    "#     validation_set = dataset_class(inputs_val, targets_val)\n",
    "#     test_set = dataset_class(inputs_test, targets_test)\n",
    "\n",
    "#     return training_set, validation_set, test_set\n",
    "    \n",
    "\n",
    "# training_set, validation_set, test_set = create_datasets(sequences, Dataset)\n",
    "\n",
    "# print(f'We have {len(training_set)} samples in the training set.')\n",
    "# print(f'We have {len(validation_set)} samples in the validation set.')\n",
    "# print(f'We have {len(test_set)} samples in the test set.')"
   ]
  },
  {
   "cell_type": "markdown",
   "metadata": {},
   "source": [
    "When working with more complex data than what we use in this exercise, creating a PyTorch `DataLoader` on top of the dataset can be beneficial. A data loader is basically a fancy generator/iterator that we can use to abstract away all of the data handling and pre-processing + it's super useful for processing batches of data as well! Data loaders will come in handy later when you start to work on your projects, so be sure to check them out!\n",
    "\n",
    "For more information on how to use datasets and data loaders in PyTorch, [consult the official guide](https://pytorch.org/tutorials/beginner/data_loading_tutorial.html)."
   ]
  },
  {
   "cell_type": "markdown",
   "metadata": {},
   "source": [
    "## One-hot encodings"
   ]
  },
  {
   "cell_type": "markdown",
   "metadata": {},
   "source": [
    "We now create a simple function that returns the one-hot encoded representation of a given index of a word in our vocabulary. Notice that the shape of the one-hot encoding is equal to the vocabulary (which can be huge!). Additionally, we define a function to automatically one-hot encode a sentence."
   ]
  },
  {
   "cell_type": "code",
   "execution_count": 18,
   "metadata": {},
   "outputs": [],
   "source": [
    "# def one_hot_encode(idx, vocab_size):\n",
    "#     \"\"\"\n",
    "#     One-hot encodes a single word given its index and the size of the vocabulary.\n",
    "    \n",
    "#     Args:\n",
    "#      `idx`: the index of the given word\n",
    "#      `vocab_size`: the size of the vocabulary\n",
    "    \n",
    "#     Returns a 1-D numpy array of length `vocab_size`.\n",
    "#     \"\"\"\n",
    "#     # Initialize the encoded array\n",
    "#     one_hot = np.zeros(vocab_size)\n",
    "    \n",
    "#     # Set the appropriate element to one\n",
    "#     one_hot[idx] = 1.0\n",
    "\n",
    "#     return one_hot\n",
    "\n",
    "\n",
    "# def one_hot_encode_sequence(sequence, vocab_size):\n",
    "#     \"\"\"\n",
    "#     One-hot encodes a sequence of words given a fixed vocabulary size.\n",
    "    \n",
    "#     Args:\n",
    "#      `sentence`: a list of words to encode\n",
    "#      `vocab_size`: the size of the vocabulary\n",
    "     \n",
    "#     Returns a 3-D numpy array of shape (num words, vocab size, 1).\n",
    "#     \"\"\"\n",
    "#     # Encode each word in the sentence\n",
    "#     encoding = np.array([one_hot_encode(word_to_idx[word], vocab_size) for word in sequence])\n",
    "\n",
    "#     # Reshape encoding s.t. it has shape (num words, vocab size, 1)\n",
    "#     encoding = encoding.reshape(encoding.shape[0], encoding.shape[1], 1)\n",
    "    \n",
    "#     return encoding\n",
    "\n",
    "\n",
    "# test_word = one_hot_encode(word_to_idx['a'], vocab_size)\n",
    "# print(f'Our one-hot encoding of \\'a\\' has shape {test_word.shape}.')\n",
    "\n",
    "# test_sentence = one_hot_encode_sequence(['a', 'b'], vocab_size)\n",
    "# print(f'Our one-hot encoding of \\'a b\\' has shape {test_sentence.shape}.')"
   ]
  },
  {
   "cell_type": "markdown",
   "metadata": {},
   "source": [
    "Great! Now that we have our one-hot encodings in place, we can move on to the RNNs!"
   ]
  },
  {
   "cell_type": "markdown",
   "metadata": {
    "colab_type": "text",
    "id": "MA6bxjGWjeSB"
   },
   "source": [
    "# Introduction to Recurrent Neural Networks (RNN)\n",
    "\n",
    "Reading material: [blog post](http://karpathy.github.io/2015/05/21/rnn-effectiveness/) and (optionally) [this lecture](https://www.youtube.com/watch?v=iWea12EAu6U&list=PLoROMvodv4rOhcuXMZkNm7j3fVwBBY42z).\n",
    "\n",
    "___\n",
    "\n",
    "A recurrent neural network (RNN) is a type of neural network that has been succesful in modelling sequential data, e.g. language, speech, protein sequences, etc.\n",
    "\n",
    "A RNN performs its computations in a cyclic manner, where the same computation is applied to every sample of a given sequence.\n",
    "The idea is that the network should be able to use the previous computations as some form of memory and apply this to future computations.\n",
    "An image may best explain how this is to be understood,\n",
    "\n",
    "![rnn-unroll image](https://github.com/DeepLearningDTU/02456-deep-learning-with-PyTorch/blob/master/static_files/rnn-unfold.png?raw=1)\n",
    "\n",
    "\n",
    "where it the network contains the following elements:\n",
    "\n",
    "- $x$ is the input sequence of samples, \n",
    "- $U$ is a weight matrix applied to the given input sample,\n",
    "- $V$ is a weight matrix used for the recurrent computation in order to pass memory along the sequence,\n",
    "- $W$ is a weight matrix used to compute the output of the every timestep (given that every timestep requires an output),\n",
    "- $h$ is the hidden state (the network's memory) for a given time step, and\n",
    "- $o$ is the resulting output.\n",
    "\n",
    "When the network is unrolled as shown, it is easier to refer to a timestep, $t$.\n",
    "We have the following computations through the network:\n",
    "\n",
    "- $h_t = f(U\\,{x_t} + V\\,{h_{t-1}})$, where $f$ usually is an activation function, e.g. $\\mathrm{tanh}$.\n",
    "- $o_t = \\mathrm{softmax}(W\\,{h_t})$"
   ]
  },
  {
   "cell_type": "markdown",
   "metadata": {
    "colab_type": "text",
    "id": "GuvwbvsGz9KE"
   },
   "source": [
    "## Implementing a RNN"
   ]
  },
  {
   "cell_type": "markdown",
   "metadata": {},
   "source": [
    "We will implement the forward pass, backward pass, optimization and training loop for a RNN in numpy so that you can get familiar with the recurrent nature of RNNs. Later, we will go back to PyTorch and appreciate how convenient the implementation becomes."
   ]
  },
  {
   "cell_type": "markdown",
   "metadata": {},
   "source": [
    "Let's define the necessary model parameters. Recall that an $n \\times m$ weight matrix maps $\\mathbb{R}^{m} \\rightarrow \\mathbb{R}^{n}$."
   ]
  },
  {
   "cell_type": "code",
   "execution_count": 19,
   "metadata": {},
   "outputs": [],
   "source": [
    "# hidden_size = 50 # Number of dimensions in the hidden state\n",
    "# vocab_size  = len(word_to_idx) # Size of the vocabulary used\n",
    "\n",
    "# def init_orthogonal(param):\n",
    "#     \"\"\"\n",
    "#     Initializes weight parameters orthogonally.\n",
    "    \n",
    "#     Refer to this paper for an explanation of this initialization:\n",
    "#     https://arxiv.org/abs/1312.6120\n",
    "#     \"\"\"\n",
    "#     if param.ndim < 2:\n",
    "#         raise ValueError(\"Only parameters with 2 or more dimensions are supported.\")\n",
    "\n",
    "#     rows, cols = param.shape\n",
    "    \n",
    "#     new_param = np.random.randn(rows, cols)\n",
    "    \n",
    "#     if rows < cols:\n",
    "#         new_param = new_param.T\n",
    "    \n",
    "#     # Compute QR factorization\n",
    "#     q, r = np.linalg.qr(new_param)\n",
    "    \n",
    "#     # Make Q uniform according to https://arxiv.org/pdf/math-ph/0609050.pdf\n",
    "#     d = np.diag(r, 0)\n",
    "#     ph = np.sign(d)\n",
    "#     q *= ph\n",
    "\n",
    "#     if rows < cols:\n",
    "#         q = q.T\n",
    "    \n",
    "#     new_param = q\n",
    "    \n",
    "#     return new_param\n",
    "\n",
    "\n",
    "# def init_rnn(hidden_size, vocab_size):\n",
    "#     \"\"\"\n",
    "#     Initializes our recurrent neural network.\n",
    "    \n",
    "#     Args:\n",
    "#      `hidden_size`: the dimensions of the hidden state\n",
    "#      `vocab_size`: the dimensions of our vocabulary\n",
    "#     \"\"\"\n",
    "#     # Weight matrix (input to hidden state)\n",
    "#     # YOUR CODE HERE!\n",
    "#     U = np.zeros((hidden_size, vocab_size))\n",
    "\n",
    "#     # Weight matrix (recurrent computation)\n",
    "#     # YOUR CODE HERE!\n",
    "#     V = np.zeros((hidden_size, hidden_size))\n",
    "\n",
    "#     # Weight matrix (hidden state to output)\n",
    "#     # YOUR CODE HERE!\n",
    "#     W = np.zeros((vocab_size, hidden_size))\n",
    "\n",
    "#     # Bias (hidden state)\n",
    "#     # YOUR CODE HERE!\n",
    "#     b_hidden = np.zeros((hidden_size, 1))\n",
    "\n",
    "#     # Bias (output)\n",
    "#     # YOUR CODE HERE!\n",
    "#     b_out = np.zeros((vocab_size, 1))\n",
    "    \n",
    "#     # Initialize weights\n",
    "#     U = init_orthogonal(U)\n",
    "#     V = init_orthogonal(V)\n",
    "#     W = init_orthogonal(W)\n",
    "    \n",
    "#     # Return parameters as a tuple\n",
    "#     return U, V, W, b_hidden, b_out\n",
    "\n",
    "\n",
    "# params = init_rnn(hidden_size=hidden_size, vocab_size=vocab_size)"
   ]
  },
  {
   "cell_type": "markdown",
   "metadata": {},
   "source": [
    "## Exercise:"
   ]
  },
  {
   "cell_type": "markdown",
   "metadata": {},
   "source": [
    "Define the appropriate shape of the weights and biases in the `init_rnn` function.\n",
    "\n",
    "You only have to worry about the weight and bias dimensions; you can leave the scaling as is. Refer to the equations and figure above if you're in doubt here."
   ]
  },
  {
   "cell_type": "markdown",
   "metadata": {},
   "source": [
    "### Function definitions"
   ]
  },
  {
   "cell_type": "markdown",
   "metadata": {},
   "source": [
    "Below we have defined the `sigmoid`, `tanh` and `softmax` functions. You might need them in a bit!"
   ]
  },
  {
   "cell_type": "markdown",
   "metadata": {},
   "source": [
    "#### Sigmoid activation"
   ]
  },
  {
   "cell_type": "code",
   "execution_count": 20,
   "metadata": {},
   "outputs": [],
   "source": [
    "# def sigmoid(x, derivative=False):\n",
    "#     \"\"\"\n",
    "#     Computes the element-wise sigmoid activation function for an array x.\n",
    "\n",
    "#     Args:\n",
    "#      `x`: the array where the function is applied\n",
    "#      `derivative`: if set to True will return the derivative instead of the forward pass\n",
    "#     \"\"\"\n",
    "#     x_safe = x + 1e-12\n",
    "#     f = 1 / (1 + np.exp(-x_safe))\n",
    "    \n",
    "#     if derivative: # Return the derivative of the function evaluated at x\n",
    "#         return f * (1 - f)\n",
    "#     else: # Return the forward pass of the function at x\n",
    "#         return f"
   ]
  },
  {
   "cell_type": "markdown",
   "metadata": {},
   "source": [
    "#### Hyperbolic Tangent activation"
   ]
  },
  {
   "cell_type": "code",
   "execution_count": 21,
   "metadata": {},
   "outputs": [],
   "source": [
    "# def tanh(x, derivative=False):\n",
    "#     \"\"\"\n",
    "#     Computes the element-wise tanh activation function for an array x.\n",
    "\n",
    "#     Args:\n",
    "#      `x`: the array where the function is applied\n",
    "#      `derivative`: if set to True will return the derivative instead of the forward pass\n",
    "#     \"\"\"\n",
    "#     x_safe = x + 1e-12\n",
    "#     f = (np.exp(x_safe)-np.exp(-x_safe))/(np.exp(x_safe)+np.exp(-x_safe))\n",
    "    \n",
    "#     if derivative: # Return the derivative of the function evaluated at x\n",
    "#         return 1-f**2\n",
    "#     else: # Return the forward pass of the function at x\n",
    "#         return f"
   ]
  },
  {
   "cell_type": "markdown",
   "metadata": {},
   "source": [
    "#### Softmax"
   ]
  },
  {
   "cell_type": "code",
   "execution_count": 22,
   "metadata": {},
   "outputs": [],
   "source": [
    "# def softmax(x, derivative=False):\n",
    "#     \"\"\"\n",
    "#     Computes the softmax for an array x.\n",
    "    \n",
    "#     Args:\n",
    "#      `x`: the array where the function is applied\n",
    "#      `derivative`: if set to True will return the derivative instead of the forward pass\n",
    "#     \"\"\"\n",
    "#     x_safe = x + 1e-12\n",
    "#     f = np.exp(x_safe) / np.sum(np.exp(x_safe))\n",
    "    \n",
    "#     if derivative: # Return the derivative of the function evaluated at x\n",
    "#         pass # We will not need this one\n",
    "#     else: # Return the forward pass of the function at x\n",
    "#         return f"
   ]
  },
  {
   "cell_type": "markdown",
   "metadata": {
    "colab_type": "text",
    "id": "WFUtyOtesrfe"
   },
   "source": [
    "### Implement the forward pass"
   ]
  },
  {
   "cell_type": "markdown",
   "metadata": {},
   "source": [
    "Now that we have all the definitions in place, we can start to implement a forward pass."
   ]
  },
  {
   "cell_type": "code",
   "execution_count": 23,
   "metadata": {
    "colab": {},
    "colab_type": "code",
    "id": "RNZ3IVjs4jFB"
   },
   "outputs": [],
   "source": [
    "# def forward_pass(inputs, hidden_state, params):\n",
    "#     \"\"\"\n",
    "#     Computes the forward pass of a vanilla RNN.\n",
    "    \n",
    "#     Args:\n",
    "#      `inputs`: sequence of inputs to be processed\n",
    "#      `hidden_state`: an already initialized hidden state\n",
    "#      `params`: the parameters of the RNN\n",
    "#     \"\"\"\n",
    "#     # First we unpack our parameters\n",
    "#     U, V, W, b_hidden, b_out = params\n",
    "    \n",
    "#     # Create a list to store outputs and hidden states\n",
    "#     outputs, hidden_states = [], []\n",
    "    \n",
    "#     # For each element in input sequence\n",
    "#     for t in range(len(inputs)):\n",
    "\n",
    "#         # Compute new hidden state\n",
    "#         # YOUR CODE HERE!\n",
    "#         hidden_state = tanh(np.dot(U, inputs[t]) + np.dot(V, hidden_state) + b_hidden)\n",
    "\n",
    "#         # Compute output\n",
    "#         # YOUR CODE HERE!\n",
    "#         out = softmax(np.dot(W, hidden_state) + b_out)\n",
    "        \n",
    "#         # Save results and continue\n",
    "#         outputs.append(out)\n",
    "#         hidden_states.append(hidden_state.copy())\n",
    "    \n",
    "#     return outputs, hidden_states\n",
    "\n",
    "\n",
    "# # Get first sequence in training set\n",
    "# test_input_sequence, test_target_sequence = training_set[0]\n",
    "\n",
    "# # One-hot encode input and target sequence\n",
    "# test_input = one_hot_encode_sequence(test_input_sequence, vocab_size)\n",
    "# test_target = one_hot_encode_sequence(test_target_sequence, vocab_size)\n",
    "\n",
    "# # Initialize hidden state as zeros\n",
    "# hidden_state = np.zeros((hidden_size, 1))\n",
    "\n",
    "# # Now let's try out our new function\n",
    "# outputs, hidden_states = forward_pass(test_input, hidden_state, params)\n",
    "\n",
    "# print('Input sequence:')\n",
    "# print(test_input_sequence)\n",
    "\n",
    "# print('\\nTarget sequence:')\n",
    "# print(test_target_sequence)\n",
    "\n",
    "# print('\\nPredicted sequence:')\n",
    "# print([idx_to_word[np.argmax(output)] for output in outputs])"
   ]
  },
  {
   "cell_type": "markdown",
   "metadata": {},
   "source": [
    "## Exercise:"
   ]
  },
  {
   "cell_type": "markdown",
   "metadata": {},
   "source": [
    "Implement the forward pass in the code above. Refer to the equations and the figure if you're in doubt."
   ]
  },
  {
   "cell_type": "markdown",
   "metadata": {
    "colab_type": "text",
    "id": "Vug6QCohsx_S"
   },
   "source": [
    "### Implement the backward pass"
   ]
  },
  {
   "cell_type": "code",
   "execution_count": 24,
   "metadata": {
    "colab": {},
    "colab_type": "code",
    "id": "roXK0HW6s2Z_"
   },
   "outputs": [],
   "source": [
    "# def clip_gradient_norm(grads, max_norm=0.25):\n",
    "#     \"\"\"\n",
    "#     Clips gradients to have a maximum norm of `max_norm`.\n",
    "#     This is to prevent the exploding gradients problem.\n",
    "#     \"\"\" \n",
    "#     # Set the maximum of the norm to be of type float\n",
    "#     max_norm = float(max_norm)\n",
    "#     total_norm = 0\n",
    "    \n",
    "#     # Calculate the L2 norm squared for each gradient and add them to the total norm\n",
    "#     for grad in grads:\n",
    "#         grad_norm = np.sum(np.power(grad, 2))\n",
    "#         total_norm += grad_norm\n",
    "    \n",
    "#     total_norm = np.sqrt(total_norm)\n",
    "    \n",
    "#     # Calculate clipping coeficient\n",
    "#     clip_coef = max_norm / (total_norm + 1e-6)\n",
    "    \n",
    "#     # If the total norm is larger than the maximum allowable norm, then clip the gradient\n",
    "#     if clip_coef < 1:\n",
    "#         for grad in grads:\n",
    "#             grad *= clip_coef\n",
    "    \n",
    "#     return grads\n",
    "\n",
    "\n",
    "# def backward_pass(inputs, outputs, hidden_states, targets, params):\n",
    "#     \"\"\"\n",
    "#     Computes the backward pass of a vanilla RNN.\n",
    "    \n",
    "#     Args:\n",
    "#      `inputs`: sequence of inputs to be processed\n",
    "#      `outputs`: sequence of outputs from the forward pass\n",
    "#      `hidden_states`: sequence of hidden_states from the forward pass\n",
    "#      `targets`: sequence of targets\n",
    "#      `params`: the parameters of the RNN\n",
    "#     \"\"\"\n",
    "#     # First we unpack our parameters\n",
    "#     U, V, W, b_hidden, b_out = params\n",
    "    \n",
    "#     # Initialize gradients as zero\n",
    "#     d_U, d_V, d_W = np.zeros_like(U), np.zeros_like(V), np.zeros_like(W)\n",
    "#     d_b_hidden, d_b_out = np.zeros_like(b_hidden), np.zeros_like(b_out)\n",
    "    \n",
    "#     # Keep track of hidden state derivative and loss\n",
    "#     d_h_next = np.zeros_like(hidden_states[0])\n",
    "#     loss = 0\n",
    "    \n",
    "#     # For each element in output sequence\n",
    "#     # NB: We iterate backwards s.t. t = N, N-1, ... 1, 0\n",
    "#     for t in reversed(range(len(outputs))):\n",
    "\n",
    "#         # Compute cross-entropy loss (as a scalar)\n",
    "#         # YOUR CODE HERE!\n",
    "#         loss += -np.mean(np.log(outputs[t]+1e-12) * targets[t])\n",
    "        \n",
    "#         # Backpropagate into output (derivative of cross-entropy)\n",
    "#         # if you're confused about this step, see this link for an explanation:\n",
    "#         # http://cs231n.github.io/neural-networks-case-study/#grad\n",
    "#         # YOUR CODE HERE!\n",
    "#         d_o = outputs[t].copy()\n",
    "#         d_o[np.argmax(targets[t])] -= 1\n",
    "        \n",
    "#         # Backpropagate into W\n",
    "#         # YOUR CODE HERE!\n",
    "#         d_W += np.dot(d_o, hidden_states[t].T)\n",
    "#         d_b_out += d_o\n",
    "        \n",
    "#         # Backpropagate into h\n",
    "#         # YOUR CODE HERE!\n",
    "#         d_h = np.dot(W.T, d_o) + d_h_next\n",
    "        \n",
    "#         # Backpropagate through non-linearity\n",
    "#         d_f = tanh(hidden_states[t], derivative=True) * d_h\n",
    "#         d_b_hidden += d_f\n",
    "        \n",
    "#         # Backpropagate into U\n",
    "#         # YOUR CODE HERE!\n",
    "#         d_U += np.dot(d_f, inputs[t].T)\n",
    "        \n",
    "#         # Backpropagate into V\n",
    "#         # YOUR CODE HERE!\n",
    "#         d_V += np.dot(d_f, hidden_states[t-1].T)\n",
    "#         d_h_next = np.dot(V.T, d_f)\n",
    "    \n",
    "#     # Pack gradients\n",
    "#     grads = d_U, d_V, d_W, d_b_hidden, d_b_out    \n",
    "    \n",
    "#     # Clip gradients\n",
    "#     grads = clip_gradient_norm(grads)\n",
    "    \n",
    "#     return loss, grads\n",
    "\n",
    "\n",
    "# loss, grads = backward_pass(test_input, outputs, hidden_states, test_target, params)\n",
    "\n",
    "# print('We get a loss of:')\n",
    "# print(loss)"
   ]
  },
  {
   "cell_type": "markdown",
   "metadata": {},
   "source": [
    "## Exercise:"
   ]
  },
  {
   "cell_type": "markdown",
   "metadata": {},
   "source": [
    "Implement the missing code in the backward pass above. Refer to previous weeks for the definition of cross-entropy or follow [this link](http://cs231n.github.io/neural-networks-case-study/#grad) for a hint."
   ]
  },
  {
   "cell_type": "markdown",
   "metadata": {
    "colab_type": "text",
    "id": "Pxi7sbLus82R"
   },
   "source": [
    "### Optimization"
   ]
  },
  {
   "cell_type": "markdown",
   "metadata": {},
   "source": [
    "Now that we can do forward passes and compute gradients with backpropagation, we're ready to train our network. For that we will need an optimizer. A common and easy to implement optimization method is gradient descent, which has the update rule: $\\theta_{n+1} = \\theta_{n} - \\eta \\frac{\\partial E}{\\partial \\theta_{n}}$, where $\\eta$ is the learning rate and $E$ is our cost function. This is essentially what's going on behind the scenes when you run `optimizer.step()` in PyTorch using the stochastic gradient descent optimizer."
   ]
  },
  {
   "cell_type": "code",
   "execution_count": 25,
   "metadata": {
    "colab": {},
    "colab_type": "code",
    "id": "N4yTZYkBtAVr"
   },
   "outputs": [],
   "source": [
    "# def update_parameters(params, grads, lr=1e-3):\n",
    "#     # Take a step\n",
    "#     for param, grad in zip(params, grads):\n",
    "#         param -= lr * grad\n",
    "    \n",
    "#     return params"
   ]
  },
  {
   "cell_type": "markdown",
   "metadata": {
    "colab_type": "text",
    "id": "K7ArhViPtEck"
   },
   "source": [
    "### Training loop"
   ]
  },
  {
   "cell_type": "markdown",
   "metadata": {},
   "source": [
    "We need to define a full training loop with a forward pass, backward pass, optimization step and validation. Training will take approximately 5 minutes, so you might want to read on while the notebook is running."
   ]
  },
  {
   "cell_type": "code",
   "execution_count": 26,
   "metadata": {
    "colab": {},
    "colab_type": "code",
    "id": "YMcg90qYs6kW",
    "scrolled": false
   },
   "outputs": [],
   "source": [
    "# import matplotlib.pyplot as plt\n",
    "# %matplotlib inline\n",
    "\n",
    "# # Hyper-parameters\n",
    "# num_epochs = 1000\n",
    "\n",
    "# # Initialize a new network\n",
    "# params = init_rnn(hidden_size=hidden_size, vocab_size=vocab_size)\n",
    "\n",
    "# # Initialize hidden state as zeros\n",
    "# hidden_state = np.zeros((hidden_size, 1))\n",
    "\n",
    "# # Track loss\n",
    "# training_loss, validation_loss = [], []\n",
    "\n",
    "# # For each epoch\n",
    "# for i in range(num_epochs):\n",
    "    \n",
    "#     # Track loss\n",
    "#     epoch_training_loss = 0\n",
    "#     epoch_validation_loss = 0\n",
    "    \n",
    "#      # For each sentence in validation set\n",
    "#     for inputs, targets in validation_set:\n",
    "        \n",
    "#         # One-hot encode input and target sequence\n",
    "#         inputs_one_hot = one_hot_encode_sequence(inputs, vocab_size)\n",
    "#         targets_one_hot = one_hot_encode_sequence(targets, vocab_size)\n",
    "        \n",
    "#         # Re-initialize hidden state\n",
    "#         hidden_state = np.zeros_like(hidden_state)\n",
    "\n",
    "#         # Forward pass\n",
    "#         # YOUR CODE HERE!\n",
    "#         outputs, hidden_states = forward_pass(inputs_one_hot, hidden_state, params)\n",
    "\n",
    "#         # Backward pass\n",
    "#         # YOUR CODE HERE!\n",
    "#         loss, _ = backward_pass(inputs_one_hot, outputs, hidden_states, targets_one_hot, params)\n",
    "        \n",
    "#         # Update loss\n",
    "#         epoch_validation_loss += loss\n",
    "    \n",
    "#     # For each sentence in training set\n",
    "#     for inputs, targets in training_set:\n",
    "        \n",
    "#         # One-hot encode input and target sequence\n",
    "#         inputs_one_hot = one_hot_encode_sequence(inputs, vocab_size)\n",
    "#         targets_one_hot = one_hot_encode_sequence(targets, vocab_size)\n",
    "        \n",
    "#         # Re-initialize hidden state\n",
    "#         hidden_state = np.zeros_like(hidden_state)\n",
    "\n",
    "#         # Forward pass\n",
    "#         # YOUR CODE HERE!\n",
    "#         outputs, hidden_states = forward_pass(inputs_one_hot, hidden_state, params)\n",
    "\n",
    "#         # Backward pass\n",
    "#         # YOUR CODE HERE!\n",
    "#         loss, grads = backward_pass(inputs_one_hot, outputs, hidden_states, targets_one_hot, params)\n",
    "        \n",
    "#         if np.isnan(loss):\n",
    "#             raise ValueError('Gradients have vanished!')\n",
    "        \n",
    "#         # Update parameters\n",
    "#         params = update_parameters(params, grads, lr=3e-4)\n",
    "        \n",
    "#         # Update loss\n",
    "#         epoch_training_loss += loss\n",
    "        \n",
    "#     # Save loss for plot\n",
    "#     training_loss.append(epoch_training_loss/len(training_set))\n",
    "#     validation_loss.append(epoch_validation_loss/len(validation_set))\n",
    "\n",
    "#     # Print loss every 100 epochs\n",
    "#     if i % 100 == 0:\n",
    "#         print(f'Epoch {i}, training loss: {training_loss[-1]}, validation loss: {validation_loss[-1]}')\n",
    "\n",
    "\n",
    "# # Get first sentence in test set\n",
    "# inputs, targets = test_set[1]\n",
    "\n",
    "# # One-hot encode input and target sequence\n",
    "# inputs_one_hot = one_hot_encode_sequence(inputs, vocab_size)\n",
    "# targets_one_hot = one_hot_encode_sequence(targets, vocab_size)\n",
    "\n",
    "# # Initialize hidden state as zeros\n",
    "# hidden_state = np.zeros((hidden_size, 1))\n",
    "\n",
    "# # Forward pass\n",
    "# outputs, hidden_states = forward_pass(inputs_one_hot, hidden_state, params)\n",
    "# output_sentence = [idx_to_word[np.argmax(output)] for output in outputs]\n",
    "# print('Input sentence:')\n",
    "# print(inputs)\n",
    "\n",
    "# print('\\nTarget sequence:')\n",
    "# print(targets)\n",
    "\n",
    "# print('\\nPredicted sequence:')\n",
    "# print([idx_to_word[np.argmax(output)] for output in outputs])\n",
    "\n",
    "# # Plot training and validation loss\n",
    "# epoch = np.arange(len(training_loss))\n",
    "# plt.figure()\n",
    "# plt.plot(epoch, training_loss, 'r', label='Training loss',)\n",
    "# plt.plot(epoch, validation_loss, 'b', label='Validation loss')\n",
    "# plt.legend()\n",
    "# plt.xlabel('Epoch'), plt.ylabel('NLL')\n",
    "# plt.show()"
   ]
  },
  {
   "cell_type": "markdown",
   "metadata": {},
   "source": [
    "## Exercise:"
   ]
  },
  {
   "cell_type": "markdown",
   "metadata": {},
   "source": [
    "Complete the training loop above and run the training. You can leave the hyper-parameters and network size unchanged.\n",
    "\n",
    "A correct implementation should yield a loss **below 1.0** after 2000 epochs. How well does it predict the sequence?"
   ]
  },
  {
   "cell_type": "markdown",
   "metadata": {},
   "source": [
    "## Extrapolation"
   ]
  },
  {
   "cell_type": "markdown",
   "metadata": {},
   "source": [
    "Now that we have trained a RNN model, it's time to put it to test. We will provide the network with a starting sentence and let it `freestyle` from there!"
   ]
  },
  {
   "cell_type": "code",
   "execution_count": 27,
   "metadata": {},
   "outputs": [],
   "source": [
    "# def freestyle(params, sentence='', num_generate=4):\n",
    "#     \"\"\"\n",
    "#     Takes in a sentence as a string and outputs a sequence\n",
    "#     based on the predictions of the RNN.\n",
    "    \n",
    "#     Args:\n",
    "#      `params`: the parameters of the network\n",
    "#      `sentence`: string with whitespace-separated tokens\n",
    "#      `num_generate`: the number of tokens to generate\n",
    "#     \"\"\"\n",
    "#     sentence = sentence.split(' ')\n",
    "    \n",
    "#     sentence_one_hot = one_hot_encode_sequence(sentence, vocab_size)\n",
    "    \n",
    "#     # Initialize hidden state as zeros\n",
    "#     hidden_state = np.zeros((hidden_size, 1))\n",
    "\n",
    "#     # Generate hidden state for sentence\n",
    "#     outputs, hidden_states = forward_pass(sentence_one_hot, hidden_state, params)\n",
    "    \n",
    "#     # Output sentence\n",
    "#     output_sentence = sentence\n",
    "    \n",
    "#     # Append first prediction\n",
    "#     word = idx_to_word[np.argmax(outputs[-1])]    \n",
    "#     output_sentence.append(word)\n",
    "    \n",
    "#     # Forward pass\n",
    "#     for i in range(num_generate):\n",
    "\n",
    "#         # Get the latest prediction and latest hidden state\n",
    "#         output = outputs[-1]\n",
    "#         hidden_state = hidden_states[-1]\n",
    "    \n",
    "#         # Reshape our output to match the input shape of our forward pass\n",
    "#         output = output.reshape(1, output.shape[0], output.shape[1])\n",
    "    \n",
    "#         # Forward pass\n",
    "#         outputs, hidden_states = forward_pass(output, hidden_state, params)\n",
    "        \n",
    "#         # Compute the index the most likely word and look up the corresponding word\n",
    "#         word = idx_to_word[np.argmax(outputs)]\n",
    "        \n",
    "#         output_sentence.append(word)\n",
    "        \n",
    "#     return output_sentence\n",
    "    \n",
    "# # Perform freestyle\n",
    "# print('Example:')\n",
    "# print(freestyle(params, sentence='a a a a a b'))"
   ]
  },
  {
   "cell_type": "markdown",
   "metadata": {},
   "source": [
    "## Exercise:\n",
    "\n",
    "What did you observe while building and training the model? How well does it freestyle? How many epochs are (roughly) needed for learning to make good predictions?"
   ]
  },
  {
   "cell_type": "markdown",
   "metadata": {},
   "source": [
    "## Exercise (optional):"
   ]
  },
  {
   "cell_type": "markdown",
   "metadata": {},
   "source": [
    "Alter the forward pass, backward pass and training loop to handle batches of inputs. You will see a great performance increase!"
   ]
  },
  {
   "cell_type": "markdown",
   "metadata": {
    "colab_type": "text",
    "id": "sGeKM44bvISA"
   },
   "source": [
    "# Introduction to the Long Short-Term Memory (LSTM) Cell\n"
   ]
  },
  {
   "cell_type": "markdown",
   "metadata": {
    "colab_type": "text",
    "id": "X44hQ653vNCj"
   },
   "source": [
    "Reading material: [Christopher Olah's walk-through](http://colah.github.io/posts/2015-08-Understanding-LSTMs/).\n",
    "\n",
    "___\n",
    "\n",
    "\n",
    "A vanilla RNN suffers from [the vanishing gradients problem](http://neuralnetworksanddeeplearning.com/chap5.html#the_vanishing_gradient_problem) which gives challenges in saving memory over longer sequences. To combat these issues the gated hidden units were created. The two most prominent gated hidden units are the Long Short-Term Memory (LSTM) cell and the Gated Recurrent Unit (GRU), both of which have shown increased performance in saving and reusing memory in later timesteps. In this exercise, we will focus on LSTM but you would easily be able to go ahead and implement the GRU as well based on the principles that you learn here.\n",
    "\n",
    "Below is a figure of the LSTM cell:"
   ]
  },
  {
   "cell_type": "markdown",
   "metadata": {
    "colab_type": "text",
    "id": "5Rgc-g3zwV9f"
   },
   "source": [
    "![lstm](https://i.imgur.com/3VkmUCe.png)\n",
    "Source: https://arxiv.org/abs/1412.7828"
   ]
  },
  {
   "cell_type": "markdown",
   "metadata": {
    "colab_type": "text",
    "id": "ytasZ5cqw4W1"
   },
   "source": [
    "\n",
    "The LSTM cell contains three gates, input, forget, output gates and a memory cell.\n",
    "The output of the LSTM unit is computed with the following functions, where $\\sigma = \\mathrm{softmax}$.\n",
    "We have input gate $i$, forget gate $f$, and output gate $o$ defines as\n",
    "\n",
    "- $i = \\sigma ( W^i [h_{t-1}, x_t])$  (i - input)\n",
    "\n",
    "- $f = \\sigma ( W^f [h_{t-1},x_t])$   (f - forget)\n",
    "\n",
    "- $o = \\sigma ( W^o [h_{t-1},x_t])$   (o - output)\n",
    "\n",
    "where $W^i, W^f, W^o$ are weight matrices applied to a concatenated $h_{t-1}$ (hidden state vector) and $x_t$ (input vector)  for each respective gate.\n",
    "\n",
    "$h_{t-1}$, from the previous time step along with the current input $x_t$ are used to compute the a candidate $g$\n",
    "\n",
    "- $g = \\mathrm{tanh}( W^g [h_{t-1}, x_t])$\n",
    "\n",
    "The value of the cell's memory, $c_t$, is updated as\n",
    "\n",
    "- $c_t = c_{t-1} \\circ f + g \\circ i$\n",
    "\n",
    "where $c_{t-1}$ is the previous memory, and $\\circ$ refers to element-wise multiplication.\n",
    "\n",
    "The output, $h_t$, is computed as\n",
    "\n",
    "- $h_t = \\mathrm{tanh}(c_t) \\circ o$\n",
    "\n",
    "and it is used for both the timestep's output and the next timestep, whereas $c_t$ is exclusively sent to the next timestep.\n",
    "This makes $c_t$ a memory feature, and is not used directly to compute the output of the timestep."
   ]
  },
  {
   "cell_type": "markdown",
   "metadata": {},
   "source": [
    "## Initialiation of a LSTM network"
   ]
  },
  {
   "cell_type": "markdown",
   "metadata": {},
   "source": [
    "Similarly to before we will implement the forward pass, backward pass, optimization and training loop, now for an LSTM in numpy. Later, we will go back to PyTorch and appreciate how convenient the implementation becomes."
   ]
  },
  {
   "cell_type": "code",
   "execution_count": 28,
   "metadata": {},
   "outputs": [
    {
     "ename": "NameError",
     "evalue": "name 'hidden_size' is not defined",
     "output_type": "error",
     "traceback": [
      "\u001b[1;31m---------------------------------------------------------------------------\u001b[0m",
      "\u001b[1;31mNameError\u001b[0m                                 Traceback (most recent call last)",
      "Cell \u001b[1;32mIn[28], line 2\u001b[0m\n\u001b[0;32m      1\u001b[0m \u001b[38;5;66;03m# Size of concatenated hidden + input vector\u001b[39;00m\n\u001b[1;32m----> 2\u001b[0m z_size \u001b[38;5;241m=\u001b[39m \u001b[43mhidden_size\u001b[49m \u001b[38;5;241m+\u001b[39m vocab_size \n\u001b[0;32m      4\u001b[0m \u001b[38;5;28;01mdef\u001b[39;00m \u001b[38;5;21minit_lstm\u001b[39m(hidden_size, vocab_size, z_size):\n\u001b[0;32m      5\u001b[0m \u001b[38;5;250m    \u001b[39m\u001b[38;5;124;03m\"\"\"\u001b[39;00m\n\u001b[0;32m      6\u001b[0m \u001b[38;5;124;03m    Initializes our LSTM network.\u001b[39;00m\n\u001b[0;32m      7\u001b[0m \u001b[38;5;124;03m    \u001b[39;00m\n\u001b[1;32m   (...)\u001b[0m\n\u001b[0;32m     11\u001b[0m \u001b[38;5;124;03m     `z_size`: the dimensions of the concatenated input \u001b[39;00m\n\u001b[0;32m     12\u001b[0m \u001b[38;5;124;03m    \"\"\"\u001b[39;00m\n",
      "\u001b[1;31mNameError\u001b[0m: name 'hidden_size' is not defined"
     ]
    }
   ],
   "source": [
    "# Size of concatenated hidden + input vector\n",
    "hidden_size = 50\n",
    "vocab_size = len(word_to_idx)\n",
    "z_size = hidden_size + vocab_size \n",
    "\n",
    "def init_lstm(hidden_size, vocab_size, z_size):\n",
    "    \"\"\"\n",
    "    Initializes our LSTM network.\n",
    "    \n",
    "    Args:\n",
    "     `hidden_size`: the dimensions of the hidden state\n",
    "     `vocab_size`: the dimensions of our vocabulary\n",
    "     `z_size`: the dimensions of the concatenated input \n",
    "    \"\"\"\n",
    "    # Weight matrix (forget gate)\n",
    "    # YOUR CODE HERE!\n",
    "    W_f = np.random.randn(hidden_size, z_size)\n",
    "    \n",
    "    # Bias for forget gate\n",
    "    b_f = np.zeros((hidden_size, 1))\n",
    "\n",
    "    # Weight matrix (input gate)\n",
    "    # YOUR CODE HERE!\n",
    "    W_i = np.random.randn(hidden_size, z_size)\n",
    "    \n",
    "    # Bias for input gate\n",
    "    b_i = np.zeros((hidden_size, 1))\n",
    "\n",
    "    # Weight matrix (candidate)\n",
    "    # YOUR CODE HERE!\n",
    "    W_g = np.random.randn(hidden_size, z_size)\n",
    "    \n",
    "    # Bias for candidate\n",
    "    b_g = np.zeros((hidden_size, 1))\n",
    "\n",
    "    # Weight matrix of the output gate\n",
    "    # YOUR CODE HERE!\n",
    "    W_o = np.random.randn(hidden_size, z_size)\n",
    "    b_o = np.zeros((hidden_size, 1))\n",
    "\n",
    "    # Weight matrix relating the hidden-state to the output\n",
    "    # YOUR CODE HERE!\n",
    "    W_v = np.random.randn(vocab_size, hidden_size)\n",
    "    b_v = np.zeros((vocab_size, 1))\n",
    "    \n",
    "    # Initialize weights according to https://arxiv.org/abs/1312.6120\n",
    "    W_f = init_orthogonal(W_f)\n",
    "    W_i = init_orthogonal(W_i)\n",
    "    W_g = init_orthogonal(W_g)\n",
    "    W_o = init_orthogonal(W_o)\n",
    "    W_v = init_orthogonal(W_v)\n",
    "\n",
    "    return W_f, W_i, W_g, W_o, W_v, b_f, b_i, b_g, b_o, b_v\n",
    "\n",
    "\n",
    "params = init_lstm(hidden_size=hidden_size, vocab_size=vocab_size, z_size=z_size)"
   ]
  },
  {
   "cell_type": "markdown",
   "metadata": {},
   "source": [
    "## Exercise:"
   ]
  },
  {
   "cell_type": "markdown",
   "metadata": {},
   "source": [
    "Implement the initlizations in the code above. Refer to the equations and the figure if you're in doubt."
   ]
  },
  {
   "cell_type": "markdown",
   "metadata": {},
   "source": [
    "## Forward pass"
   ]
  },
  {
   "cell_type": "markdown",
   "metadata": {},
   "source": [
    "As before we need to bring the equations into pieces of code. This is done in the following function:"
   ]
  },
  {
   "cell_type": "code",
   "execution_count": 15,
   "metadata": {},
   "outputs": [
    {
     "name": "stdout",
     "output_type": "stream",
     "text": [
      "Input sentence:\n",
      "['a', 'a', 'a', 'a', 'a', 'a', 'a', 'b', 'b', 'b', 'b', 'b', 'b', 'b']\n",
      "\n",
      "Target sequence:\n",
      "['a', 'a', 'a', 'a', 'a', 'a', 'b', 'b', 'b', 'b', 'b', 'b', 'b', 'EOS']\n",
      "\n",
      "Predicted sequence:\n",
      "['a', 'a', 'a', 'a', 'a', 'a', 'a', 'a', 'a', 'a', 'a', 'a', 'a', 'EOS']\n"
     ]
    }
   ],
   "source": [
    "def forward(inputs, h_prev, C_prev, p):\n",
    "    \"\"\"\n",
    "    Arguments:\n",
    "    x -- your input data at timestep \"t\", numpy array of shape (n_x, m).\n",
    "    h_prev -- Hidden state at timestep \"t-1\", numpy array of shape (n_a, m)\n",
    "    C_prev -- Memory state at timestep \"t-1\", numpy array of shape (n_a, m)\n",
    "    p -- python list containing:\n",
    "                        W_f -- Weight matrix of the forget gate, numpy array of shape (n_a, n_a + n_x)\n",
    "                        b_f -- Bias of the forget gate, numpy array of shape (n_a, 1)\n",
    "                        W_i -- Weight matrix of the update gate, numpy array of shape (n_a, n_a + n_x)\n",
    "                        b_i -- Bias of the update gate, numpy array of shape (n_a, 1)\n",
    "                        W_g -- Weight matrix of the first \"tanh\", numpy array of shape (n_a, n_a + n_x)\n",
    "                        b_g --  Bias of the first \"tanh\", numpy array of shape (n_a, 1)\n",
    "                        W_o -- Weight matrix of the output gate, numpy array of shape (n_a, n_a + n_x)\n",
    "                        b_o --  Bias of the output gate, numpy array of shape (n_a, 1)\n",
    "                        W_v -- Weight matrix relating the hidden-state to the output, numpy array of shape (n_v, n_a)\n",
    "                        b_v -- Bias relating the hidden-state to the output, numpy array of shape (n_v, 1)\n",
    "    Returns:\n",
    "    z_s, f_s, i_s, g_s, C_s, o_s, h_s, v_s -- lists of size m containing the computations in each forward pass\n",
    "    outputs -- prediction at timestep \"t\", numpy array of shape (n_v, m)\n",
    "    \"\"\"\n",
    "    assert h_prev.shape == (hidden_size, 1)\n",
    "    assert C_prev.shape == (hidden_size, 1)\n",
    "\n",
    "    # First we unpack our parameters\n",
    "    W_f, W_i, W_g, W_o, W_v, b_f, b_i, b_g, b_o, b_v = p\n",
    "    \n",
    "    # Save a list of computations for each of the components in the LSTM\n",
    "    x_s, z_s, f_s, i_s,  = [], [] ,[], []\n",
    "    g_s, C_s, o_s, h_s = [], [] ,[], []\n",
    "    v_s, output_s =  [], [] \n",
    "    \n",
    "    # Append the initial cell and hidden state to their respective lists\n",
    "    h_s.append(h_prev)\n",
    "    C_s.append(C_prev)\n",
    "    \n",
    "    for x in inputs:\n",
    "        \n",
    "        # YOUR CODE HERE!\n",
    "        # Concatenate input and hidden state\n",
    "        z = np.row_stack((h_prev, x))\n",
    "        z_s.append(z)\n",
    "        \n",
    "        # YOUR CODE HERE!\n",
    "        # Calculate forget gate\n",
    "        f = sigmoid(np.dot(W_f, z) + b_f)\n",
    "        f_s.append(f)\n",
    "        \n",
    "        # Calculate input gate\n",
    "        i = sigmoid(np.dot(W_i, z) + b_i)\n",
    "        i_s.append(i)\n",
    "        \n",
    "        # Calculate candidate\n",
    "        g = tanh(np.dot(W_g, z) + b_g)\n",
    "        g_s.append(g)\n",
    "        \n",
    "        # YOUR CODE HERE!\n",
    "        # Calculate memory state\n",
    "        C_prev = f * C_prev + i * g \n",
    "        C_s.append(C_prev)\n",
    "        \n",
    "        # Calculate output gate\n",
    "        o = sigmoid(np.dot(W_o, z) + b_o)\n",
    "        o_s.append(o)\n",
    "        \n",
    "        # Calculate hidden state\n",
    "        h_prev = o * tanh(C_prev)\n",
    "        h_s.append(h_prev)\n",
    "\n",
    "        # Calculate logits\n",
    "        v = np.dot(W_v, h_prev) + b_v\n",
    "        v_s.append(v)\n",
    "        \n",
    "        # Calculate softmax\n",
    "        output = softmax(v)\n",
    "        output_s.append(output)\n",
    "\n",
    "    return z_s, f_s, i_s, g_s, C_s, o_s, h_s, v_s, output_s\n",
    "\n",
    "\n",
    "# Get first sentence in test set\n",
    "inputs, targets = test_set[1]\n",
    "\n",
    "# One-hot encode input and target sequence\n",
    "inputs_one_hot = one_hot_encode_sequence(inputs, vocab_size)\n",
    "targets_one_hot = one_hot_encode_sequence(targets, vocab_size)\n",
    "\n",
    "# Initialize hidden state as zeros\n",
    "h = np.zeros((hidden_size, 1))\n",
    "c = np.zeros((hidden_size, 1))\n",
    "\n",
    "# Forward pass\n",
    "z_s, f_s, i_s, g_s, C_s, o_s, h_s, v_s, outputs = forward(inputs_one_hot, h, c, params)\n",
    "\n",
    "output_sentence = [idx_to_word[np.argmax(output)] for output in outputs]\n",
    "print('Input sentence:')\n",
    "print(inputs)\n",
    "\n",
    "print('\\nTarget sequence:')\n",
    "print(targets)\n",
    "\n",
    "print('\\nPredicted sequence:')\n",
    "print([idx_to_word[np.argmax(output)] for output in outputs])"
   ]
  },
  {
   "cell_type": "markdown",
   "metadata": {},
   "source": [
    "## Exercise:"
   ]
  },
  {
   "cell_type": "markdown",
   "metadata": {},
   "source": [
    "Complete the implementation of the LSTM forward pass above. Refer to the equations and figures further up if you're in doubt."
   ]
  },
  {
   "cell_type": "markdown",
   "metadata": {},
   "source": [
    "## Backward pass"
   ]
  },
  {
   "cell_type": "markdown",
   "metadata": {},
   "source": [
    "Similar to the RNN in numpy we also need to specify a backward pass. Fortunately some of the TA's have a lot of free time to do that for you :-) "
   ]
  },
  {
   "cell_type": "code",
   "execution_count": 29,
   "metadata": {},
   "outputs": [
    {
     "ename": "NameError",
     "evalue": "name 'params' is not defined",
     "output_type": "error",
     "traceback": [
      "\u001b[1;31m---------------------------------------------------------------------------\u001b[0m",
      "\u001b[1;31mNameError\u001b[0m                                 Traceback (most recent call last)",
      "Cell \u001b[1;32mIn[29], line 1\u001b[0m\n\u001b[1;32m----> 1\u001b[0m \u001b[38;5;28;01mdef\u001b[39;00m \u001b[38;5;21mbackward\u001b[39m(z, f, i, g, C, o, h, v, outputs, targets, p \u001b[38;5;241m=\u001b[39m \u001b[43mparams\u001b[49m):\n\u001b[0;32m      2\u001b[0m \u001b[38;5;250m    \u001b[39m\u001b[38;5;124;03m\"\"\"\u001b[39;00m\n\u001b[0;32m      3\u001b[0m \u001b[38;5;124;03m    Arguments:\u001b[39;00m\n\u001b[0;32m      4\u001b[0m \u001b[38;5;124;03m    z -- your concatenated input data  as a list of size m.\u001b[39;00m\n\u001b[1;32m   (...)\u001b[0m\n\u001b[0;32m     27\u001b[0m \u001b[38;5;124;03m    grads -- lists of gradients of every element in p\u001b[39;00m\n\u001b[0;32m     28\u001b[0m \u001b[38;5;124;03m    \"\"\"\u001b[39;00m\n\u001b[0;32m     30\u001b[0m     \u001b[38;5;66;03m# Unpack parameters\u001b[39;00m\n",
      "\u001b[1;31mNameError\u001b[0m: name 'params' is not defined"
     ]
    }
   ],
   "source": [
    "def backward(z, f, i, g, C, o, h, v, outputs, targets, p = params):\n",
    "    \"\"\"\n",
    "    Arguments:\n",
    "    z -- your concatenated input data  as a list of size m.\n",
    "    f -- your forget gate computations as a list of size m.\n",
    "    i -- your input gate computations as a list of size m.\n",
    "    g -- your candidate computations as a list of size m.\n",
    "    C -- your Cell states as a list of size m+1.\n",
    "    o -- your output gate computations as a list of size m.\n",
    "    h -- your Hidden state computations as a list of size m+1.\n",
    "    v -- your logit computations as a list of size m.\n",
    "    outputs -- your outputs as a list of size m.\n",
    "    targets -- your targets as a list of size m.\n",
    "    p -- python list containing:\n",
    "                        W_f -- Weight matrix of the forget gate, numpy array of shape (n_a, n_a + n_x)\n",
    "                        b_f -- Bias of the forget gate, numpy array of shape (n_a, 1)\n",
    "                        W_i -- Weight matrix of the update gate, numpy array of shape (n_a, n_a + n_x)\n",
    "                        b_i -- Bias of the update gate, numpy array of shape (n_a, 1)\n",
    "                        W_g -- Weight matrix of the first \"tanh\", numpy array of shape (n_a, n_a + n_x)\n",
    "                        b_g --  Bias of the first \"tanh\", numpy array of shape (n_a, 1)\n",
    "                        W_o -- Weight matrix of the output gate, numpy array of shape (n_a, n_a + n_x)\n",
    "                        b_o --  Bias of the output gate, numpy array of shape (n_a, 1)\n",
    "                        W_v -- Weight matrix relating the hidden-state to the output, numpy array of shape (n_v, n_a)\n",
    "                        b_v -- Bias relating the hidden-state to the output, numpy array of shape (n_v, 1)\n",
    "    Returns:\n",
    "    loss -- crossentropy loss for all elements in output\n",
    "    grads -- lists of gradients of every element in p\n",
    "    \"\"\"\n",
    "\n",
    "    # Unpack parameters\n",
    "    W_f, W_i, W_g, W_o, W_v, b_f, b_i, b_g, b_o, b_v = p\n",
    "\n",
    "    # Initialize gradients as zero\n",
    "    W_f_d = np.zeros_like(W_f)\n",
    "    b_f_d = np.zeros_like(b_f)\n",
    "\n",
    "    W_i_d = np.zeros_like(W_i)\n",
    "    b_i_d = np.zeros_like(b_i)\n",
    "\n",
    "    W_g_d = np.zeros_like(W_g)\n",
    "    b_g_d = np.zeros_like(b_g)\n",
    "\n",
    "    W_o_d = np.zeros_like(W_o)\n",
    "    b_o_d = np.zeros_like(b_o)\n",
    "\n",
    "    W_v_d = np.zeros_like(W_v)\n",
    "    b_v_d = np.zeros_like(b_v)\n",
    "    \n",
    "    # Set the next cell and hidden state equal to zero\n",
    "    dh_next = np.zeros_like(h[0])\n",
    "    dC_next = np.zeros_like(C[0])\n",
    "        \n",
    "    # Track loss\n",
    "    loss = 0\n",
    "    \n",
    "    for t in reversed(range(len(outputs))):\n",
    "        \n",
    "        # Compute the cross entropy\n",
    "        loss += -np.mean(np.log(outputs[t]) * targets[t])\n",
    "        # Get the previous hidden cell state\n",
    "        C_prev= C[t-1]\n",
    "        \n",
    "        # Compute the derivative of the relation of the hidden-state to the output gate\n",
    "        dv = np.copy(outputs[t])\n",
    "        dv[np.argmax(targets[t])] -= 1\n",
    "\n",
    "        # Update the gradient of the relation of the hidden-state to the output gate\n",
    "        W_v_d += np.dot(dv, h[t].T)\n",
    "        b_v_d += dv\n",
    "\n",
    "        # Compute the derivative of the hidden state and output gate\n",
    "        dh = np.dot(W_v.T, dv)        \n",
    "        dh += dh_next\n",
    "        do = dh * tanh(C[t])\n",
    "        do = sigmoid(o[t], derivative=True)*do\n",
    "        \n",
    "        # Update the gradients with respect to the output gate\n",
    "        W_o_d += np.dot(do, z[t].T)\n",
    "        b_o_d += do\n",
    "\n",
    "        # Compute the derivative of the cell state and candidate g\n",
    "        dC = np.copy(dC_next)\n",
    "        dC += dh * o[t] * tanh(tanh(C[t]), derivative=True)\n",
    "        dg = dC * i[t]\n",
    "        dg = tanh(g[t], derivative=True) * dg\n",
    "        \n",
    "        # Update the gradients with respect to the candidate\n",
    "        W_g_d += np.dot(dg, z[t].T)\n",
    "        b_g_d += dg\n",
    "\n",
    "        # Compute the derivative of the input gate and update its gradients\n",
    "        di = dC * g[t]\n",
    "        di = sigmoid(i[t], True) * di\n",
    "        W_i_d += np.dot(di, z[t].T)\n",
    "        b_i_d += di\n",
    "\n",
    "        # Compute the derivative of the forget gate and update its gradients\n",
    "        df = dC * C_prev\n",
    "        df = sigmoid(f[t]) * df\n",
    "        W_f_d += np.dot(df, z[t].T)\n",
    "        b_f_d += df\n",
    "\n",
    "        # Compute the derivative of the input and update the gradients of the previous hidden and cell state\n",
    "        dz = (np.dot(W_f.T, df)\n",
    "             + np.dot(W_i.T, di)\n",
    "             + np.dot(W_g.T, dg)\n",
    "             + np.dot(W_o.T, do))\n",
    "        dh_prev = dz[:hidden_size, :]\n",
    "        dC_prev = f[t] * dC\n",
    "        \n",
    "    grads= W_f_d, W_i_d, W_g_d, W_o_d, W_v_d, b_f_d, b_i_d, b_g_d, b_o_d, b_v_d\n",
    "    \n",
    "    # Clip gradients\n",
    "    grads = clip_gradient_norm(grads)\n",
    "    \n",
    "    return loss, grads\n",
    "\n",
    "\n",
    "# Perform a backward pass\n",
    "loss, grads = backward(z_s, f_s, i_s, g_s, C_s, o_s, h_s, v_s, outputs, targets_one_hot, params)\n",
    "\n",
    "print('We get a loss of:')\n",
    "print(loss)"
   ]
  },
  {
   "cell_type": "markdown",
   "metadata": {},
   "source": [
    "## Training loop"
   ]
  },
  {
   "cell_type": "markdown",
   "metadata": {},
   "source": [
    "Now let's see if the LSTM works after being trained for a few epochs."
   ]
  },
  {
   "cell_type": "code",
   "execution_count": 18,
   "metadata": {},
   "outputs": [
    {
     "name": "stdout",
     "output_type": "stream",
     "text": [
      "Epoch 0, training loss: 2.9126594208151486, validation loss: 3.7627056786333304\n",
      "Epoch 5, training loss: 1.2746721453770284, validation loss: 1.3007947595266\n",
      "Epoch 10, training loss: 1.1492599735091498, validation loss: 1.1397926520784125\n",
      "Epoch 15, training loss: 0.9836092135358967, validation loss: 0.9939491353315226\n",
      "Epoch 20, training loss: 0.8791899647621022, validation loss: 0.8975219678277728\n",
      "Epoch 25, training loss: 0.8008628436073784, validation loss: 0.8188702401659995\n",
      "Epoch 30, training loss: 0.7547721298664058, validation loss: 0.7598792343202021\n",
      "Epoch 35, training loss: 0.7316903442197215, validation loss: 0.7280875207336999\n",
      "Epoch 40, training loss: 0.7181688528186636, validation loss: 0.7100343175260164\n",
      "Epoch 45, training loss: 0.7091859818959982, validation loss: 0.69897796740037\n",
      "Input sentence:\n",
      "['a', 'a', 'a', 'a', 'a', 'a', 'a', 'b', 'b', 'b', 'b', 'b', 'b', 'b']\n",
      "\n",
      "Target sequence:\n",
      "['a', 'a', 'a', 'a', 'a', 'a', 'b', 'b', 'b', 'b', 'b', 'b', 'b', 'EOS']\n",
      "\n",
      "Predicted sequence:\n",
      "['a', 'a', 'a', 'a', 'a', 'a', 'a', 'b', 'b', 'b', 'b', 'b', 'b', 'EOS']\n"
     ]
    },
    {
     "data": {
      "image/png": "[encoded data removed]",
      "text/plain": [
       "<Figure size 640x480 with 1 Axes>"
      ]
     },
     "metadata": {},
     "output_type": "display_data"
    }
   ],
   "source": [
    "# Hyper-parameters\n",
    "num_epochs = 50\n",
    "\n",
    "# Initialize a new network\n",
    "z_size = hidden_size + vocab_size # Size of concatenated hidden + input vector\n",
    "params = init_lstm(hidden_size=hidden_size, vocab_size=vocab_size, z_size=z_size)\n",
    "\n",
    "# Initialize hidden state as zeros\n",
    "hidden_state = np.zeros((hidden_size, 1))\n",
    "\n",
    "# Track loss\n",
    "training_loss, validation_loss = [], []\n",
    "\n",
    "# For each epoch\n",
    "for i in range(num_epochs):\n",
    "    \n",
    "    # Track loss\n",
    "    epoch_training_loss = 0\n",
    "    epoch_validation_loss = 0\n",
    "    \n",
    "    # For each sentence in validation set\n",
    "    for inputs, targets in validation_set:\n",
    "        \n",
    "        # One-hot encode input and target sequence\n",
    "        inputs_one_hot = one_hot_encode_sequence(inputs, vocab_size)\n",
    "        targets_one_hot = one_hot_encode_sequence(targets, vocab_size)\n",
    "\n",
    "        # Initialize hidden state and cell state as zeros\n",
    "        h = np.zeros((hidden_size, 1))\n",
    "        c = np.zeros((hidden_size, 1))\n",
    "\n",
    "        # Forward pass\n",
    "        z_s, f_s, i_s, g_s, C_s, o_s, h_s, v_s, outputs = forward(inputs_one_hot, h, c, params)\n",
    "        \n",
    "        # Backward pass\n",
    "        loss, _ = backward(z_s, f_s, i_s, g_s, C_s, o_s, h_s, v_s, outputs, targets_one_hot, params)\n",
    "        \n",
    "        # Update loss\n",
    "        epoch_validation_loss += loss\n",
    "    \n",
    "    # For each sentence in training set\n",
    "    for inputs, targets in training_set:\n",
    "        \n",
    "        # One-hot encode input and target sequence\n",
    "        inputs_one_hot = one_hot_encode_sequence(inputs, vocab_size)\n",
    "        targets_one_hot = one_hot_encode_sequence(targets, vocab_size)\n",
    "\n",
    "        # Initialize hidden state and cell state as zeros\n",
    "        h = np.zeros((hidden_size, 1))\n",
    "        c = np.zeros((hidden_size, 1))\n",
    "\n",
    "        # Forward pass\n",
    "        z_s, f_s, i_s, g_s, C_s, o_s, h_s, v_s, outputs = forward(inputs_one_hot, h, c, params)\n",
    "        \n",
    "        # Backward pass\n",
    "        loss, grads = backward(z_s, f_s, i_s, g_s, C_s, o_s, h_s, v_s, outputs, targets_one_hot, params)\n",
    "        \n",
    "        # Update parameters\n",
    "        params = update_parameters(params, grads, lr=1e-1)\n",
    "        \n",
    "        # Update loss\n",
    "        epoch_training_loss += loss\n",
    "                \n",
    "    # Save loss for plot\n",
    "    training_loss.append(epoch_training_loss/len(training_set))\n",
    "    validation_loss.append(epoch_validation_loss/len(validation_set))\n",
    "\n",
    "    # Print loss every 5 epochs\n",
    "    if i % 5 == 0:\n",
    "        print(f'Epoch {i}, training loss: {training_loss[-1]}, validation loss: {validation_loss[-1]}')\n",
    "\n",
    "\n",
    "    \n",
    "# Get first sentence in test set\n",
    "inputs, targets = test_set[1]\n",
    "\n",
    "# One-hot encode input and target sequence\n",
    "inputs_one_hot = one_hot_encode_sequence(inputs, vocab_size)\n",
    "targets_one_hot = one_hot_encode_sequence(targets, vocab_size)\n",
    "\n",
    "# Initialize hidden state as zeros\n",
    "h = np.zeros((hidden_size, 1))\n",
    "c = np.zeros((hidden_size, 1))\n",
    "\n",
    "# Forward pass\n",
    "z_s, f_s, i_s, g_s, C_s, o_s, h_s, v_s, outputs = forward(inputs_one_hot, h, c, params)\n",
    "\n",
    "# Print example\n",
    "print('Input sentence:')\n",
    "print(inputs)\n",
    "\n",
    "print('\\nTarget sequence:')\n",
    "print(targets)\n",
    "\n",
    "print('\\nPredicted sequence:')\n",
    "print([idx_to_word[np.argmax(output)] for output in outputs])\n",
    "\n",
    "# Plot training and validation loss\n",
    "epoch = np.arange(len(training_loss))\n",
    "plt.figure()\n",
    "plt.plot(epoch, training_loss, 'r', label='Training loss',)\n",
    "plt.plot(epoch, validation_loss, 'b', label='Validation loss')\n",
    "plt.legend()\n",
    "plt.xlabel('Epoch'), plt.ylabel('NLL')\n",
    "plt.show()"
   ]
  },
  {
   "cell_type": "markdown",
   "metadata": {},
   "source": [
    "## Exercise:"
   ]
  },
  {
   "cell_type": "markdown",
   "metadata": {},
   "source": [
    "Run the training loop above. What do you notice about the loss and number of epochs compared to the vanilla RNN from earlier?"
   ]
  },
  {
   "cell_type": "markdown",
   "metadata": {
    "colab_type": "text",
    "id": "gi51eWgKxyOk"
   },
   "source": [
    "## PyTorch implementation of the LSTM\n",
    "\n",
    "Now that we know how the LSTM cell works, let's see how easy it is to use in PyTorch!"
   ]
  },
  {
   "cell_type": "markdown",
   "metadata": {},
   "source": [
    "Definition of our LSTM network. We define a LSTM layer using the [nn.LSTM](https://pytorch.org/docs/stable/nn.html#lstm) class. The LSTM layer takes as argument the size of the input and the size of the hidden state like in our numpy implementation."
   ]
  },
  {
   "cell_type": "code",
   "execution_count": 19,
   "metadata": {},
   "outputs": [
    {
     "name": "stdout",
     "output_type": "stream",
     "text": [
      "Net(\n",
      "  (lstm): LSTM(4, 50)\n",
      "  (l_out): Linear(in_features=50, out_features=4, bias=False)\n",
      ")\n"
     ]
    }
   ],
   "source": [
    "import torch\n",
    "import torch.nn as nn\n",
    "import torch.nn.functional as F\n",
    "\n",
    "class Net(nn.Module):\n",
    "    def __init__(self):\n",
    "        super(Net, self).__init__()\n",
    "        \n",
    "        # Recurrent layer\n",
    "        # YOUR CODE HERE!\n",
    "        self.lstm = nn.LSTM(input_size=vocab_size,\n",
    "                         hidden_size=50,\n",
    "                         num_layers=1,\n",
    "                         bidirectional=False)\n",
    "        \n",
    "        # Output layer\n",
    "        self.l_out = nn.Linear(in_features=50,\n",
    "                            out_features=vocab_size,\n",
    "                            bias=False)\n",
    "        \n",
    "    def forward(self, x):\n",
    "        # RNN returns output and last hidden state\n",
    "        x, (h, c) = self.lstm(x)\n",
    "        \n",
    "        # Flatten output for feed-forward layer\n",
    "        x = x.view(-1, self.lstm.hidden_size)\n",
    "        \n",
    "        # Output layer\n",
    "        x = self.l_out(x)\n",
    "        \n",
    "        return x\n",
    "\n",
    "net = Net()\n",
    "print(net)"
   ]
  },
  {
   "cell_type": "markdown",
   "metadata": {
    "colab_type": "text",
    "id": "4WpALf2-x7Ty"
   },
   "source": [
    "### Training loop"
   ]
  },
  {
   "cell_type": "markdown",
   "metadata": {},
   "source": [
    "It's time for us to train our network. In the section below, you will get to put your deep learning skills to use and create your own training loop. You may want to consult previous exercises if you cannot recall how to define the training loop."
   ]
  },
  {
   "cell_type": "code",
   "execution_count": 15,
   "metadata": {
    "colab": {},
    "colab_type": "code",
    "id": "2URKsyFDx8xG"
   },
   "outputs": [
    {
     "ename": "NameError",
     "evalue": "name 'Net' is not defined",
     "output_type": "error",
     "traceback": [
      "\u001b[1;31m---------------------------------------------------------------------------\u001b[0m",
      "\u001b[1;31mNameError\u001b[0m                                 Traceback (most recent call last)",
      "Cell \u001b[1;32mIn[15], line 5\u001b[0m\n\u001b[0;32m      2\u001b[0m num_epochs \u001b[38;5;241m=\u001b[39m \u001b[38;5;241m50\u001b[39m\n\u001b[0;32m      4\u001b[0m \u001b[38;5;66;03m# Initialize a new network\u001b[39;00m\n\u001b[1;32m----> 5\u001b[0m net \u001b[38;5;241m=\u001b[39m \u001b[43mNet\u001b[49m()\n\u001b[0;32m      7\u001b[0m \u001b[38;5;66;03m# Define a loss function and optimizer for this problem\u001b[39;00m\n\u001b[0;32m      8\u001b[0m \u001b[38;5;66;03m# YOUR CODE HERE!\u001b[39;00m\n\u001b[0;32m      9\u001b[0m criterion \u001b[38;5;241m=\u001b[39m nn\u001b[38;5;241m.\u001b[39mCrossEntropyLoss()\n",
      "\u001b[1;31mNameError\u001b[0m: name 'Net' is not defined"
     ]
    }
   ],
   "source": [
    "# Hyper-parameters\n",
    "num_epochs = 50\n",
    "\n",
    "# Initialize a new network\n",
    "net = Net()\n",
    "\n",
    "# Define a loss function and optimizer for this problem\n",
    "# YOUR CODE HERE!\n",
    "criterion = nn.CrossEntropyLoss()\n",
    "optimizer = torch.optim.Adam(net.parameters(), lr=3e-4)\n",
    "\n",
    "# Track loss\n",
    "training_loss, validation_loss = [], []\n",
    "\n",
    "# For each epoch\n",
    "for i in range(num_epochs):\n",
    "    \n",
    "    # Track loss\n",
    "    epoch_training_loss = 0\n",
    "    epoch_validation_loss = 0\n",
    "    \n",
    "    net.eval()\n",
    "        \n",
    "    # For each sentence in validation set\n",
    "    for inputs, targets in validation_set:\n",
    "        \n",
    "        # One-hot encode input and target sequence\n",
    "        inputs_one_hot = one_hot_encode_sequence(inputs, vocab_size)\n",
    "        targets_idx = [word_to_idx[word] for word in targets]\n",
    "        \n",
    "        # Convert input to tensor\n",
    "        inputs_one_hot = torch.Tensor(inputs_one_hot)\n",
    "        inputs_one_hot = inputs_one_hot.permute(0, 2, 1)\n",
    "        \n",
    "        # Convert target to tensor\n",
    "        targets_idx = torch.LongTensor(targets_idx)\n",
    "        \n",
    "        # Forward pass\n",
    "        # YOUR CODE HERE!\n",
    "        outputs = net.forward(inputs_one_hot)\n",
    "        \n",
    "        # Compute loss\n",
    "        # YOUR CODE HERE!\n",
    "        loss = criterion(outputs, targets_idx)\n",
    "        \n",
    "        # Update loss\n",
    "        epoch_validation_loss += loss.detach().numpy()\n",
    "    \n",
    "    net.train()\n",
    "    \n",
    "    # For each sentence in training set\n",
    "    for inputs, targets in training_set:\n",
    "        \n",
    "        # One-hot encode input and target sequence\n",
    "        inputs_one_hot = one_hot_encode_sequence(inputs, vocab_size)\n",
    "        targets_idx = [word_to_idx[word] for word in targets]\n",
    "        \n",
    "        # Convert input to tensor\n",
    "        inputs_one_hot = torch.Tensor(inputs_one_hot)\n",
    "        inputs_one_hot = inputs_one_hot.permute(0, 2, 1)\n",
    "        \n",
    "        # Convert target to tensor\n",
    "        targets_idx = torch.LongTensor(targets_idx)\n",
    "        \n",
    "        # Forward pass\n",
    "        # YOUR CODE HERE!\n",
    "        outputs = net.forward(inputs_one_hot)\n",
    "        \n",
    "        # Compute loss\n",
    "        # YOUR CODE HERE!\n",
    "        loss = criterion(outputs, targets_idx)\n",
    "        \n",
    "        # Backward pass\n",
    "        # YOUR CODE HERE!\n",
    "        optimizer.zero_grad()\n",
    "        loss.backward()\n",
    "        optimizer.step()\n",
    "        \n",
    "        # Update loss\n",
    "        epoch_training_loss += loss.detach().numpy()\n",
    "        \n",
    "    # Save loss for plot\n",
    "    training_loss.append(epoch_training_loss/len(training_set))\n",
    "    validation_loss.append(epoch_validation_loss/len(validation_set))\n",
    "\n",
    "    # Print loss every 5 epochs\n",
    "    if i % 5 == 0:\n",
    "        print(f'Epoch {i}, training loss: {training_loss[-1]}, validation loss: {validation_loss[-1]}')\n",
    "\n",
    "        \n",
    "# Get first sentence in test set\n",
    "inputs, targets = test_set[1]\n",
    "\n",
    "# One-hot encode input and target sequence\n",
    "inputs_one_hot = one_hot_encode_sequence(inputs, vocab_size)\n",
    "targets_idx = [word_to_idx[word] for word in targets]\n",
    "\n",
    "# Convert input to tensor\n",
    "inputs_one_hot = torch.Tensor(inputs_one_hot)\n",
    "inputs_one_hot = inputs_one_hot.permute(0, 2, 1)\n",
    "\n",
    "# Convert target to tensor\n",
    "targets_idx = torch.LongTensor(targets_idx)\n",
    "\n",
    "# Forward pass\n",
    "# YOUR CODE HERE!\n",
    "outputs = net.forward(inputs_one_hot).data.numpy()\n",
    "\n",
    "print('\\nInput sequence:')\n",
    "print(inputs)\n",
    "\n",
    "print('\\nTarget sequence:')\n",
    "print(targets)\n",
    "\n",
    "print('\\nPredicted sequence:')\n",
    "print([idx_to_word[np.argmax(output)] for output in outputs])\n",
    "\n",
    "\n",
    "# Plot training and validation loss\n",
    "epoch = np.arange(len(training_loss))\n",
    "plt.figure()\n",
    "plt.plot(epoch, training_loss, 'r', label='Training loss',)\n",
    "plt.plot(epoch, validation_loss, 'b', label='Validation loss')\n",
    "plt.legend()\n",
    "plt.xlabel('Epoch'), plt.ylabel('NLL')\n",
    "plt.show()"
   ]
  },
  {
   "cell_type": "markdown",
   "metadata": {},
   "source": [
    "## Exercise:"
   ]
  },
  {
   "cell_type": "markdown",
   "metadata": {},
   "source": [
    "Finish the training loop above and run the training. Compare your loss to the numpy implementation. Are they similar?\n",
    "\n",
    "Try to play around with the hyper-parameters and hidden dimensions. How low of a negative log-likelihood can you achieve?"
   ]
  },
  {
   "cell_type": "markdown",
   "metadata": {},
   "source": [
    "## Exercise (optional)\n",
    "\n",
    "Aside from the LSTM cell, various other RNN cells exist. The gated recurrent unit (GRU) is a variation of the LSTM cell that uses less parameters. Try to look it up in the [PyTorch documentation](https://pytorch.org/docs/stable/nn.html#gru) and switch out the LSTM cell in the code above. What do you notice in terms of performance and convergence speed?"
   ]
  },
  {
   "cell_type": "markdown",
   "metadata": {},
   "source": [
    "# Where to go from here?"
   ]
  },
  {
   "cell_type": "markdown",
   "metadata": {},
   "source": [
    "In this notebook you have learned how to use embeddings, recurrent neural networks and the LSTM cell in particular.\n",
    "\n",
    "As we have already seen, RNNs are excellent for sequential data such as language. But what do we do if we're modelling data with strong dependency in both directions? Like in many things deep learning, we can build powerful models by stacking layers on top of each other: *bi-directional* RNNs consist of two LSTM cells, one for each direction. A sequence is first fed into the forward LSTM cell and the reversed sequence is then used as input to the backward LSTM cell together with the last hidden state from the forward LSTM cell. Follow [this link](https://pdfs.semanticscholar.org/4b80/89bc9b49f84de43acc2eb8900035f7d492b2.pdf) for the original paper from 1997(!).\n",
    "\n",
    "For even deeper representations, multiple layers of both uni-directional and bi-directional RNNs can be stacked ontop of each other, just like feed-forward and convolutional layers! For more information on this, check out the [LSTM PyTorch documentation](https://pytorch.org/docs/stable/nn.html#lstm)."
   ]
  }
 ],
 "metadata": {
  "colab": {
   "collapsed_sections": [],
   "name": "5_Sequencial_Data (1).ipynb",
   "provenance": [],
   "version": "0.3.2"
  },
  "kernelspec": {
   "display_name": "Python 3",
   "language": "python",
   "name": "python3"
  },
  "language_info": {
   "codemirror_mode": {
    "name": "ipython",
    "version": 3
   },
   "file_extension": ".py",
   "mimetype": "text/x-python",
   "name": "python",
   "nbconvert_exporter": "python",
   "pygments_lexer": "ipython3",
   "version": "3.12.1"
  }
 },
 "nbformat": 4,
 "nbformat_minor": 1
}
